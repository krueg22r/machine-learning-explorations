{
 "cells": [
  {
   "cell_type": "code",
   "execution_count": 7,
   "metadata": {},
   "outputs": [],
   "source": [
    "# This is a program to try out machine learning for my small exciplex data set. \n",
    "# It's not really big data -- in fact, it's small, expensive data. We have 69 y values, \n",
    "# each corresponding to a PAH dimer. \n",
    "\n",
    "# We'll also try it with a larger data set of excitation energies for organic molecules \n",
    "# Adapted from: https://medium.com/datadriveninvestor/a-practical-guide-to-getting-started-with-machine-learning-3a6fcc0f95aa\n",
    "\n",
    "# We'll start off trying support vector regression (SVR)"
   ]
  },
  {
   "cell_type": "code",
   "execution_count": 43,
   "metadata": {},
   "outputs": [],
   "source": [
    "%matplotlib inline\n",
    "import math \n",
    "import pandas as pd\n",
    "import os\n",
    "from sklearn.preprocessing import MinMaxScaler\n",
    "from sklearn.svm import SVR\n",
    "from sklearn.model_selection import GridSearchCV, cross_validate\n",
    "from sklearn.utils import shuffle\n",
    "import numpy as np\n",
    "import glob\n",
    "import matplotlib.pyplot as plt"
   ]
  },
  {
   "cell_type": "code",
   "execution_count": 20,
   "metadata": {},
   "outputs": [],
   "source": [
    "def svr_model(X, y):\n",
    "    gsc = GridSearchCV(\n",
    "        estimator=SVR(kernel='rbf'),\n",
    "        # grid search for model hyper-parameters \n",
    "        param_grid={\n",
    "        'C': [0.1, 1, 100, 1000],\n",
    "        'epsilon': [0.0001, 0.0005, 0.001, 0.005, 0.01, 0.05, 0.1, 0.5, 1, 5, 10],\n",
    "        'gamma': [0.0001, 0.001, 0.005, 0.1, 1, 3, 5]\n",
    "    },\n",
    "    cv=5, scoring='neg_mean_squared_error', verbose=0, n_jobs=-1)\n",
    "\n",
    "    grid_result = gsc.fit(X, y)\n",
    "    best_params = grid_result.best_params_\n",
    "    # build model using the pest parameter values found \n",
    "    best_svr = SVR(kernel='rbf', C=best_params[\"C\"], \n",
    "                   epsilon=best_params[\"epsilon\"], gamma=best_params[\"gamma\"],\n",
    "                   coef0=0.1, shrinking=True,\n",
    "                   tol=0.001, cache_size=200, verbose=False, max_iter=-1)\n",
    "    scoring = {\n",
    "               'abs_error': 'neg_mean_absolute_error',\n",
    "               'squared_error': 'neg_mean_squared_error'}\n",
    "    scores = cross_validate(best_svr, X, y, cv=10, scoring=scoring, return_train_score=True)\n",
    "    return abs(scores['test_abs_error'].mean()), math.sqrt(abs(scores['test_squared_error'].mean()))"
   ]
  },
  {
   "cell_type": "code",
   "execution_count": 21,
   "metadata": {},
   "outputs": [],
   "source": [
    "def procData(X, y, printError=True):\n",
    "    # scale input values \n",
    "    scaler = MinMaxScaler(feature_range=(0, 1))\n",
    "    X = scaler.fit_transform(X)\n",
    "    seed = 42\n",
    "    # shuffle the data \n",
    "    X, y = shuffle(X, y, random_state=seed)\n",
    "    mae, rmse = svr_model(X,y)\n",
    "    if printError: \n",
    "        print(\"MAE : \"+str(mae)+\" RMSE : \"+str(rmse))\n",
    "    else: \n",
    "        return mae, rmse"
   ]
  },
  {
   "cell_type": "code",
   "execution_count": 22,
   "metadata": {},
   "outputs": [],
   "source": [
    "fname = 'wnDimers.dat'\n",
    "datTable = pd.read_table(fname, header=None, delim_whitespace=True, comment='#')"
   ]
  },
  {
   "cell_type": "code",
   "execution_count": 23,
   "metadata": {},
   "outputs": [
    {
     "name": "stderr",
     "output_type": "stream",
     "text": [
      "/usr/local/lib/python3.6/site-packages/sklearn/preprocessing/data.py:334: DataConversionWarning: Data with input dtype int64, float64 were all converted to float64 by MinMaxScaler.\n",
      "  return self.partial_fit(X, y)\n"
     ]
    },
    {
     "name": "stdout",
     "output_type": "stream",
     "text": [
      "MAE : 5269.12705217 RMSE : 6514.1794757013295\n"
     ]
    }
   ],
   "source": [
    "# First, let's just select complex mass and overlap. These are fairly crude measures \n",
    "massOverlap = datTable.iloc[:,[3,4]]\n",
    "emission = datTable.iloc[:,13]\n",
    "procData(massOverlap, emission)"
   ]
  },
  {
   "cell_type": "code",
   "execution_count": 24,
   "metadata": {},
   "outputs": [],
   "source": [
    "# Okay, that didn't do so well -- mean absolute error is over 50000 cm^-1. We knew in advance that those \n",
    "# weren't the best independent variables to pick. Let's try some different ones. \n",
    "# What about both monomer bandgaps? \n",
    "bandgaps = datTable.iloc[:,[9,10]]"
   ]
  },
  {
   "cell_type": "code",
   "execution_count": 25,
   "metadata": {},
   "outputs": [
    {
     "name": "stdout",
     "output_type": "stream",
     "text": [
      "MAE : 5404.39404323 RMSE : 6775.797041295864\n"
     ]
    }
   ],
   "source": [
    "procData(bandgaps, emission)"
   ]
  },
  {
   "cell_type": "code",
   "execution_count": 26,
   "metadata": {},
   "outputs": [],
   "source": [
    "# even worse! \n",
    "bandgapMass = datTable.iloc[:,[9,10,3]]"
   ]
  },
  {
   "cell_type": "code",
   "execution_count": 27,
   "metadata": {},
   "outputs": [
    {
     "name": "stdout",
     "output_type": "stream",
     "text": [
      "MAE : 5362.49307133 RMSE : 6666.999899386111\n"
     ]
    }
   ],
   "source": [
    "procData(bandgapMass, emission)"
   ]
  },
  {
   "cell_type": "code",
   "execution_count": 28,
   "metadata": {},
   "outputs": [],
   "source": [
    "bandgapBondLen = datTable.iloc[:,[9,10,26,27]]"
   ]
  },
  {
   "cell_type": "code",
   "execution_count": 29,
   "metadata": {},
   "outputs": [
    {
     "name": "stdout",
     "output_type": "stream",
     "text": [
      "MAE : 5076.1132339 RMSE : 6487.053424379871\n"
     ]
    }
   ],
   "source": [
    "procData(bandgapBondLen, emission)"
   ]
  },
  {
   "cell_type": "code",
   "execution_count": 30,
   "metadata": {},
   "outputs": [],
   "source": [
    "planarityBandBond = datTable.iloc[:,[9,10,26,27,5,6]]"
   ]
  },
  {
   "cell_type": "code",
   "execution_count": 31,
   "metadata": {},
   "outputs": [
    {
     "name": "stdout",
     "output_type": "stream",
     "text": [
      "MAE : 5650.44777096 RMSE : 6899.570366614819\n"
     ]
    }
   ],
   "source": [
    "procData(planarityBandBond, emission)"
   ]
  },
  {
   "cell_type": "code",
   "execution_count": 32,
   "metadata": {},
   "outputs": [],
   "source": [
    "# just throw the whole thing at it ? \n",
    "all = datTable.iloc[:,1:12]"
   ]
  },
  {
   "cell_type": "code",
   "execution_count": 33,
   "metadata": {},
   "outputs": [
    {
     "name": "stderr",
     "output_type": "stream",
     "text": [
      "/usr/local/lib/python3.6/site-packages/sklearn/preprocessing/data.py:334: DataConversionWarning: Data with input dtype int64, float64 were all converted to float64 by MinMaxScaler.\n",
      "  return self.partial_fit(X, y)\n"
     ]
    },
    {
     "name": "stdout",
     "output_type": "stream",
     "text": [
      "MAE : 5522.31707173 RMSE : 6727.835799930833\n"
     ]
    }
   ],
   "source": [
    "procData(all,emission)"
   ]
  },
  {
   "cell_type": "code",
   "execution_count": 34,
   "metadata": {},
   "outputs": [],
   "source": [
    "bandgapEmit = datTable.iloc[:,9:12]"
   ]
  },
  {
   "cell_type": "code",
   "execution_count": 35,
   "metadata": {},
   "outputs": [
    {
     "name": "stdout",
     "output_type": "stream",
     "text": [
      "MAE : 5235.49225982 RMSE : 6631.338612779083\n"
     ]
    }
   ],
   "source": [
    "# No -- we probably don't have enough data to use this method successfully. \n",
    "procData(bandgapEmit, emission)"
   ]
  },
  {
   "cell_type": "code",
   "execution_count": 37,
   "metadata": {},
   "outputs": [],
   "source": [
    "path = '/Users/rachelkrueger/Soot/MachineLearning/xyzFiles/'\n",
    "xyzFiles = glob.glob(path+'*xyz')\n",
    "for f in xyzFiles: \n",
    "    os.system('head -2 '+f+' > '+path+'top'+f)"
   ]
  },
  {
   "cell_type": "code",
   "execution_count": 39,
   "metadata": {},
   "outputs": [
    {
     "name": "stderr",
     "output_type": "stream",
     "text": [
      "/usr/local/lib/python3.6/site-packages/sklearn/preprocessing/data.py:334: DataConversionWarning: Data with input dtype object were all converted to float64 by MinMaxScaler.\n",
      "  return self.partial_fit(X, y)\n",
      "/usr/local/lib/python3.6/site-packages/sklearn/preprocessing/data.py:334: DataConversionWarning: Data with input dtype object were all converted to float64 by MinMaxScaler.\n",
      "  return self.partial_fit(X, y)\n",
      "/usr/local/lib/python3.6/site-packages/sklearn/preprocessing/data.py:334: DataConversionWarning: Data with input dtype object were all converted to float64 by MinMaxScaler.\n",
      "  return self.partial_fit(X, y)\n",
      "/usr/local/lib/python3.6/site-packages/sklearn/preprocessing/data.py:334: DataConversionWarning: Data with input dtype object were all converted to float64 by MinMaxScaler.\n",
      "  return self.partial_fit(X, y)\n",
      "/usr/local/lib/python3.6/site-packages/sklearn/preprocessing/data.py:334: DataConversionWarning: Data with input dtype object were all converted to float64 by MinMaxScaler.\n",
      "  return self.partial_fit(X, y)\n",
      "/usr/local/lib/python3.6/site-packages/sklearn/preprocessing/data.py:334: DataConversionWarning: Data with input dtype object were all converted to float64 by MinMaxScaler.\n",
      "  return self.partial_fit(X, y)\n"
     ]
    }
   ],
   "source": [
    "# What if we try another data set that's larger? \n",
    "# There's a large data set of computed info about organic molecules available. \n",
    "# It's described in this article: Matthias Rupp, Alexandre Tkatchenko, Klaus-Robert Mueller, O. Anatole von\n",
    "#  Lilienfeld: Fast and Accurate Modeling of Molecular Atomization Energies with\n",
    "#  Machine Learning, Physical Review Letters, 108(5): 058301, 2012.\n",
    "#  DOI: 10.1103/PhysRevLett.108.058301\n",
    "# The same group computed a bunch of excitation energies at different levels of theory, reported in the publication \n",
    "# Electronic Spectra from TDDFT and Machine Learning in Chemical Space\",\n",
    "#  Raghunathan Ramakrishnan, Mia Hartmann, Enrico Tapavicza, O. Anatole von Lilienfeld,\n",
    "#  J. Chem. Phys. 143, 084111 (2015)\n",
    "# https://doi.org/10.1063/1.4928757 \n",
    "\n",
    "# suppose we use HOMO-LUMO gap as an input. How many \n",
    "# how many data points do we need to get a good prediction? Let's find out! \n",
    "nPointsList = [250, 500, 750, 1000, 1500, 2000]\n",
    "maeList = list()\n",
    "rmseList = list()\n",
    "for n in nPointsList: \n",
    "# First, let's read in the excitation energies \n",
    "    datFile2='/Users/rachelkrueger/Soot/MachineLearning/gdb8_22k_elec_spec.txt'\n",
    "    exTable = pd.read_table(datFile2, header=None, delim_whitespace=True, comment='#', nrows=n)\n",
    "    # Now, the rest of the data is contained in xyz files for the molecules, one molecule data per xyz. \n",
    "    # We need to open the appropriate xyz files for the ids listed in the excitation frame. \n",
    "    dataLines = list()\n",
    "    for id in exTable.iloc[:,0]:\n",
    "        with open(path+str(id)) as dataFile: \n",
    "            dataFile.readline()\n",
    "            tokens = dataFile.readline().split()\n",
    "            dataLines.append(tokens)\n",
    "    datArray = np.asarray(dataLines)\n",
    "    molTable = pd.DataFrame(data=datArray) # ok, we have our data frame \n",
    "    mae, rmse = procData(molTable.iloc[:,[8,9]],np.ravel(exTable.iloc[:,[1]].values), False)\n",
    "    maeList.append(mae)\n",
    "    rmseList.append(rmse)"
   ]
  },
  {
   "cell_type": "code",
   "execution_count": 46,
   "metadata": {},
   "outputs": [
    {
     "data": {
      "text/plain": [
       "<matplotlib.text.Text at 0x109c35240>"
      ]
     },
     "execution_count": 46,
     "metadata": {},
     "output_type": "execute_result"
    },
    {
     "data": {
      "image/png": "[encoded data removed]",
      "text/plain": [
       "<matplotlib.figure.Figure at 0x109bf2550>"
      ]
     },
     "metadata": {
      "needs_background": "light"
     },
     "output_type": "display_data"
    }
   ],
   "source": [
    "# Now let's plot the RMSE values obtained for each data set size. \n",
    "plt.plot(nPointsList, maeList, 'ko--')\n",
    "plt.xlabel('Total data points')\n",
    "plt.ylabel('MAE (Ha)')"
   ]
  },
  {
   "cell_type": "code",
   "execution_count": 49,
   "metadata": {},
   "outputs": [
    {
     "name": "stderr",
     "output_type": "stream",
     "text": [
      "/usr/local/lib/python3.6/site-packages/sklearn/preprocessing/data.py:334: DataConversionWarning: Data with input dtype object were all converted to float64 by MinMaxScaler.\n",
      "  return self.partial_fit(X, y)\n",
      "/usr/local/lib/python3.6/site-packages/sklearn/preprocessing/data.py:334: DataConversionWarning: Data with input dtype object were all converted to float64 by MinMaxScaler.\n",
      "  return self.partial_fit(X, y)\n",
      "/usr/local/lib/python3.6/site-packages/sklearn/preprocessing/data.py:334: DataConversionWarning: Data with input dtype object were all converted to float64 by MinMaxScaler.\n",
      "  return self.partial_fit(X, y)\n",
      "/usr/local/lib/python3.6/site-packages/sklearn/preprocessing/data.py:334: DataConversionWarning: Data with input dtype object were all converted to float64 by MinMaxScaler.\n",
      "  return self.partial_fit(X, y)\n",
      "/usr/local/lib/python3.6/site-packages/sklearn/preprocessing/data.py:334: DataConversionWarning: Data with input dtype object were all converted to float64 by MinMaxScaler.\n",
      "  return self.partial_fit(X, y)\n",
      "/usr/local/lib/python3.6/site-packages/sklearn/preprocessing/data.py:334: DataConversionWarning: Data with input dtype object were all converted to float64 by MinMaxScaler.\n",
      "  return self.partial_fit(X, y)\n"
     ]
    }
   ],
   "source": [
    "# Okay, it looks like error is not necessarily converging yet. \n",
    "# However, error of 0.0115 Ha = 30 kJ/mol is not bad! It's less than 10% of the excitation energy for most of the \n",
    "# molecules in this data set. \n",
    "\n",
    "# What if we consider more properties? \n",
    "# Let's add isotropic polarizability. \n",
    "maeList = list()\n",
    "rmseList = list()\n",
    "for n in nPointsList: \n",
    "# First, let's read in the excitation energies \n",
    "    datFile2='/Users/rachelkrueger/Soot/MachineLearning/gdb8_22k_elec_spec.txt'\n",
    "    exTable = pd.read_table(datFile2, header=None, delim_whitespace=True, comment='#', nrows=n)\n",
    "    # Now, the rest of the data is contained in xyz files for the molecules, one molecule data per xyz. \n",
    "    # We need to open the appropriate xyz files for the ids listed in the excitation frame. \n",
    "    dataLines = list()\n",
    "    for id in exTable.iloc[:,0]:\n",
    "        with open(path+str(id)) as dataFile: \n",
    "            dataFile.readline()\n",
    "            tokens = dataFile.readline().split()\n",
    "            dataLines.append(tokens)\n",
    "    datArray = np.asarray(dataLines)\n",
    "    molTable = pd.DataFrame(data=datArray) # ok, we have our data frame \n",
    "    mae, rmse = procData(molTable.iloc[:,[7,8,9]],np.ravel(exTable.iloc[:,[1]].values), False)\n",
    "    maeList.append(mae)\n",
    "    rmseList.append(rmse)"
   ]
  },
  {
   "cell_type": "code",
   "execution_count": 50,
   "metadata": {},
   "outputs": [
    {
     "data": {
      "text/plain": [
       "<matplotlib.text.Text at 0x107db0780>"
      ]
     },
     "execution_count": 50,
     "metadata": {},
     "output_type": "execute_result"
    },
    {
     "data": {
      "image/png": "[encoded data removed]",
      "text/plain": [
       "<matplotlib.figure.Figure at 0x109b83fd0>"
      ]
     },
     "metadata": {
      "needs_background": "light"
     },
     "output_type": "display_data"
    }
   ],
   "source": [
    "plt.plot(nPointsList, maeList, 'ko--')\n",
    "plt.xlabel('Total data points')\n",
    "plt.ylabel('MAE (Ha)')"
   ]
  },
  {
   "cell_type": "code",
   "execution_count": null,
   "metadata": {},
   "outputs": [],
   "source": [
    "# We have reached even lower error -- 28 kJ/mol. However, isotropic polarizability is a pain to calculate. \n",
    "# Would it be worth doing for this improvement, if we didn't have the data? Probably not. "
   ]
  }
 ],
 "metadata": {
  "kernelspec": {
   "display_name": "Python 3",
   "language": "python",
   "name": "python3"
  },
  "language_info": {
   "codemirror_mode": {
    "name": "ipython",
    "version": 3
   },
   "file_extension": ".py",
   "mimetype": "text/x-python",
   "name": "python",
   "nbconvert_exporter": "python",
   "pygments_lexer": "ipython3",
   "version": "3.6.2"
  }
 },
 "nbformat": 4,
 "nbformat_minor": 2
}
